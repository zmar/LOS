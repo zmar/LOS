{
 "cells": [
  {
   "cell_type": "markdown",
   "metadata": {},
   "source": [
    "# Losowanie zespołów"
   ]
  },
  {
   "cell_type": "code",
   "execution_count": 49,
   "metadata": {
    "collapsed": false
   },
   "outputs": [
    {
     "data": {
      "text/html": [
       "<table>\n",
       "<thead><tr><th></th><th scope=col>Group.1</th><th scope=col>x</th></tr></thead>\n",
       "<tbody>\n",
       "\t<tr><th scope=row>1</th><td>1</td><td>63</td></tr>\n",
       "\t<tr><th scope=row>2</th><td>2</td><td>70</td></tr>\n",
       "\t<tr><th scope=row>3</th><td>3</td><td>85</td></tr>\n",
       "\t<tr><th scope=row>4</th><td>4</td><td>95</td></tr>\n",
       "\t<tr><th scope=row>5</th><td>5</td><td>79</td></tr>\n",
       "\t<tr><th scope=row>6</th><td>6</td><td>81</td></tr>\n",
       "\t<tr><th scope=row>7</th><td>7</td><td>86</td></tr>\n",
       "\t<tr><th scope=row>8</th><td>8</td><td>68</td></tr>\n",
       "\t<tr><th scope=row>9</th><td>9</td><td>78</td></tr>\n",
       "\t<tr><th scope=row>10</th><td>10</td><td>73</td></tr>\n",
       "\t<tr><th scope=row>11</th><td>11</td><td>76</td></tr>\n",
       "\t<tr><th scope=row>12</th><td>12</td><td>78</td></tr>\n",
       "\t<tr><th scope=row>13</th><td>13</td><td>80</td></tr>\n",
       "\t<tr><th scope=row>14</th><td>14</td><td>92</td></tr>\n",
       "\t<tr><th scope=row>15</th><td>15</td><td>77</td></tr>\n",
       "\t<tr><th scope=row>16</th><td>16</td><td>92</td></tr>\n",
       "\t<tr><th scope=row>17</th><td>17</td><td>79</td></tr>\n",
       "\t<tr><th scope=row>18</th><td>18</td><td>74</td></tr>\n",
       "\t<tr><th scope=row>19</th><td>19</td><td>98</td></tr>\n",
       "\t<tr><th scope=row>20</th><td>20</td><td>83</td></tr>\n",
       "\t<tr><th scope=row>21</th><td>21</td><td>76</td></tr>\n",
       "\t<tr><th scope=row>22</th><td>22</td><td>83</td></tr>\n",
       "\t<tr><th scope=row>23</th><td>23</td><td>64</td></tr>\n",
       "\t<tr><th scope=row>24</th><td>24</td><td>86</td></tr>\n",
       "\t<tr><th scope=row>25</th><td>25</td><td>84</td></tr>\n",
       "</tbody>\n",
       "</table>\n"
      ],
      "text/latex": [
       "\\begin{tabular}{r|ll}\n",
       "  & Group.1 & x\\\\\n",
       "\\hline\n",
       "\t1 & 1 & 63\\\\\n",
       "\t2 & 2 & 70\\\\\n",
       "\t3 & 3 & 85\\\\\n",
       "\t4 & 4 & 95\\\\\n",
       "\t5 & 5 & 79\\\\\n",
       "\t6 & 6 & 81\\\\\n",
       "\t7 & 7 & 86\\\\\n",
       "\t8 & 8 & 68\\\\\n",
       "\t9 & 9 & 78\\\\\n",
       "\t10 & 10 & 73\\\\\n",
       "\t11 & 11 & 76\\\\\n",
       "\t12 & 12 & 78\\\\\n",
       "\t13 & 13 & 80\\\\\n",
       "\t14 & 14 & 92\\\\\n",
       "\t15 & 15 & 77\\\\\n",
       "\t16 & 16 & 92\\\\\n",
       "\t17 & 17 & 79\\\\\n",
       "\t18 & 18 & 74\\\\\n",
       "\t19 & 19 & 98\\\\\n",
       "\t20 & 20 & 83\\\\\n",
       "\t21 & 21 & 76\\\\\n",
       "\t22 & 22 & 83\\\\\n",
       "\t23 & 23 & 64\\\\\n",
       "\t24 & 24 & 86\\\\\n",
       "\t25 & 25 & 84\\\\\n",
       "\\end{tabular}\n"
      ],
      "text/plain": [
       "   Group.1  x\n",
       "1        1 63\n",
       "2        2 70\n",
       "3        3 85\n",
       "4        4 95\n",
       "5        5 79\n",
       "6        6 81\n",
       "7        7 86\n",
       "8        8 68\n",
       "9        9 78\n",
       "10      10 73\n",
       "11      11 76\n",
       "12      12 78\n",
       "13      13 80\n",
       "14      14 92\n",
       "15      15 77\n",
       "16      16 92\n",
       "17      17 79\n",
       "18      18 74\n",
       "19      19 98\n",
       "20      20 83\n",
       "21      21 76\n",
       "22      22 83\n",
       "23      23 64\n",
       "24      24 86\n",
       "25      25 84"
      ]
     },
     "execution_count": 49,
     "metadata": {},
     "output_type": "execute_result"
    }
   ],
   "source": [
    "L.szkol<-2000\n",
    "c<-sample(1:8, L.szkol, replace = TRUE, prob = 8:1)\n",
    "\n",
    "C<-data.frame( \n",
    "    klasa= unlist( lapply( 1:L.szkol, FUN = function(x){1:c[x]} )),\n",
    "    szkola = unlist( lapply(1:L.szkol, FUN = function(x){rep(x, c[x])})),\n",
    "    gmina= unlist( lapply (1:L.szkol, FUN = function(x){ rep( sample(1:25,1,replace = FALSE), c[x])   }))\n",
    ")\n",
    "# 5000 szkol\n",
    "# Losowanie 2 gmin z prawdopo liczby szkol\n",
    "#aggregate( x = C$klasa, by = list( C$szkola), FUN = length )\n",
    "G<-aggregate( x = C$szkola, by = list( C$gmina), FUN = unique )\n",
    "G$y<- unlist(lapply(G$x, length))\n",
    "G\n",
    "# Losowanie po jednej szkole z kazdej gminy"
   ]
  },
  {
   "cell_type": "code",
   "execution_count": null,
   "metadata": {
    "collapsed": true
   },
   "outputs": [],
   "source": []
  }
 ],
 "metadata": {
  "kernelspec": {
   "display_name": "R",
   "language": "R",
   "name": "ir"
  },
  "language_info": {
   "codemirror_mode": "r",
   "file_extension": ".r",
   "mimetype": "text/x-r-source",
   "name": "R",
   "pygments_lexer": "r",
   "version": "3.2.2"
  }
 },
 "nbformat": 4,
 "nbformat_minor": 0
}
